{
 "cells": [
  {
   "cell_type": "code",
   "execution_count": 1,
   "metadata": {
    "collapsed": true
   },
   "outputs": [],
   "source": [
    "import pandas as pd\n",
    "import matplotlib.pyplot as plt\n",
    "import numpy as np"
   ]
  },
  {
   "cell_type": "code",
   "execution_count": 2,
   "metadata": {
    "collapsed": true
   },
   "outputs": [],
   "source": [
    "df = pd.read_excel('AirQualityUCI.xlsx')"
   ]
  },
  {
   "cell_type": "code",
   "execution_count": 3,
   "metadata": {
    "collapsed": true
   },
   "outputs": [],
   "source": [
    "df_num = df.iloc[:,2:]\n"
   ]
  },
  {
   "cell_type": "code",
   "execution_count": 4,
   "metadata": {},
   "outputs": [
    {
     "data": {
      "text/html": [
       "<div>\n",
       "<style>\n",
       "    .dataframe thead tr:only-child th {\n",
       "        text-align: right;\n",
       "    }\n",
       "\n",
       "    .dataframe thead th {\n",
       "        text-align: left;\n",
       "    }\n",
       "\n",
       "    .dataframe tbody tr th {\n",
       "        vertical-align: top;\n",
       "    }\n",
       "</style>\n",
       "<table border=\"1\" class=\"dataframe\">\n",
       "  <thead>\n",
       "    <tr style=\"text-align: right;\">\n",
       "      <th></th>\n",
       "      <th>CO(GT)</th>\n",
       "      <th>PT08.S1(CO)</th>\n",
       "      <th>NMHC(GT)</th>\n",
       "      <th>C6H6(GT)</th>\n",
       "      <th>PT08.S2(NMHC)</th>\n",
       "      <th>NOx(GT)</th>\n",
       "      <th>PT08.S3(NOx)</th>\n",
       "      <th>NO2(GT)</th>\n",
       "      <th>PT08.S4(NO2)</th>\n",
       "      <th>PT08.S5(O3)</th>\n",
       "      <th>T</th>\n",
       "      <th>RH</th>\n",
       "      <th>AH</th>\n",
       "    </tr>\n",
       "  </thead>\n",
       "  <tbody>\n",
       "    <tr>\n",
       "      <th>0</th>\n",
       "      <td>2.6</td>\n",
       "      <td>1360.00</td>\n",
       "      <td>150</td>\n",
       "      <td>11.881723</td>\n",
       "      <td>1045.50</td>\n",
       "      <td>166.0</td>\n",
       "      <td>1056.25</td>\n",
       "      <td>113.0</td>\n",
       "      <td>1692.00</td>\n",
       "      <td>1267.50</td>\n",
       "      <td>13.60</td>\n",
       "      <td>48.875001</td>\n",
       "      <td>0.757754</td>\n",
       "    </tr>\n",
       "    <tr>\n",
       "      <th>1</th>\n",
       "      <td>2.0</td>\n",
       "      <td>1292.25</td>\n",
       "      <td>112</td>\n",
       "      <td>9.397165</td>\n",
       "      <td>954.75</td>\n",
       "      <td>103.0</td>\n",
       "      <td>1173.75</td>\n",
       "      <td>92.0</td>\n",
       "      <td>1558.75</td>\n",
       "      <td>972.25</td>\n",
       "      <td>13.30</td>\n",
       "      <td>47.700000</td>\n",
       "      <td>0.725487</td>\n",
       "    </tr>\n",
       "    <tr>\n",
       "      <th>2</th>\n",
       "      <td>2.2</td>\n",
       "      <td>1402.00</td>\n",
       "      <td>88</td>\n",
       "      <td>8.997817</td>\n",
       "      <td>939.25</td>\n",
       "      <td>131.0</td>\n",
       "      <td>1140.00</td>\n",
       "      <td>114.0</td>\n",
       "      <td>1554.50</td>\n",
       "      <td>1074.00</td>\n",
       "      <td>11.90</td>\n",
       "      <td>53.975000</td>\n",
       "      <td>0.750239</td>\n",
       "    </tr>\n",
       "    <tr>\n",
       "      <th>3</th>\n",
       "      <td>2.2</td>\n",
       "      <td>1375.50</td>\n",
       "      <td>80</td>\n",
       "      <td>9.228796</td>\n",
       "      <td>948.25</td>\n",
       "      <td>172.0</td>\n",
       "      <td>1092.00</td>\n",
       "      <td>122.0</td>\n",
       "      <td>1583.75</td>\n",
       "      <td>1203.25</td>\n",
       "      <td>11.00</td>\n",
       "      <td>60.000000</td>\n",
       "      <td>0.786713</td>\n",
       "    </tr>\n",
       "    <tr>\n",
       "      <th>4</th>\n",
       "      <td>1.6</td>\n",
       "      <td>1272.25</td>\n",
       "      <td>51</td>\n",
       "      <td>6.518224</td>\n",
       "      <td>835.50</td>\n",
       "      <td>131.0</td>\n",
       "      <td>1205.00</td>\n",
       "      <td>116.0</td>\n",
       "      <td>1490.00</td>\n",
       "      <td>1110.00</td>\n",
       "      <td>11.15</td>\n",
       "      <td>59.575001</td>\n",
       "      <td>0.788794</td>\n",
       "    </tr>\n",
       "  </tbody>\n",
       "</table>\n",
       "</div>"
      ],
      "text/plain": [
       "   CO(GT)  PT08.S1(CO)  NMHC(GT)   C6H6(GT)  PT08.S2(NMHC)  NOx(GT)  \\\n",
       "0     2.6      1360.00       150  11.881723        1045.50    166.0   \n",
       "1     2.0      1292.25       112   9.397165         954.75    103.0   \n",
       "2     2.2      1402.00        88   8.997817         939.25    131.0   \n",
       "3     2.2      1375.50        80   9.228796         948.25    172.0   \n",
       "4     1.6      1272.25        51   6.518224         835.50    131.0   \n",
       "\n",
       "   PT08.S3(NOx)  NO2(GT)  PT08.S4(NO2)  PT08.S5(O3)      T         RH  \\\n",
       "0       1056.25    113.0       1692.00      1267.50  13.60  48.875001   \n",
       "1       1173.75     92.0       1558.75       972.25  13.30  47.700000   \n",
       "2       1140.00    114.0       1554.50      1074.00  11.90  53.975000   \n",
       "3       1092.00    122.0       1583.75      1203.25  11.00  60.000000   \n",
       "4       1205.00    116.0       1490.00      1110.00  11.15  59.575001   \n",
       "\n",
       "         AH  \n",
       "0  0.757754  \n",
       "1  0.725487  \n",
       "2  0.750239  \n",
       "3  0.786713  \n",
       "4  0.788794  "
      ]
     },
     "execution_count": 4,
     "metadata": {},
     "output_type": "execute_result"
    }
   ],
   "source": [
    "df_num.head()"
   ]
  },
  {
   "cell_type": "code",
   "execution_count": 5,
   "metadata": {
    "collapsed": true
   },
   "outputs": [],
   "source": [
    "X  = df_num.iloc[:,:-1]"
   ]
  },
  {
   "cell_type": "code",
   "execution_count": 6,
   "metadata": {},
   "outputs": [
    {
     "data": {
      "text/plain": [
       "(9357, 12)"
      ]
     },
     "execution_count": 6,
     "metadata": {},
     "output_type": "execute_result"
    }
   ],
   "source": [
    "X.shape"
   ]
  },
  {
   "cell_type": "code",
   "execution_count": 7,
   "metadata": {
    "collapsed": true
   },
   "outputs": [],
   "source": [
    "Y = df_num.iloc[:,-1]"
   ]
  },
  {
   "cell_type": "code",
   "execution_count": 8,
   "metadata": {
    "collapsed": true
   },
   "outputs": [],
   "source": [
    "import seaborn as sns\n",
    "%matplotlib inline"
   ]
  },
  {
   "cell_type": "code",
   "execution_count": 9,
   "metadata": {},
   "outputs": [
    {
     "data": {
      "text/plain": [
       "<matplotlib.axes._subplots.AxesSubplot at 0x21f364c3f60>"
      ]
     },
     "execution_count": 9,
     "metadata": {},
     "output_type": "execute_result"
    },
    {
     "data": {
      "image/png": "[encoded data removed]",
      "text/plain": [
       "<matplotlib.figure.Figure at 0x21f362eb0b8>"
      ]
     },
     "metadata": {},
     "output_type": "display_data"
    }
   ],
   "source": [
    "sns.heatmap(X.corr())"
   ]
  },
  {
   "cell_type": "markdown",
   "metadata": {},
   "source": [
    "## We can see redundancy in our data"
   ]
  },
  {
   "cell_type": "markdown",
   "metadata": {},
   "source": [
    "## find the mean vector"
   ]
  },
  {
   "cell_type": "code",
   "execution_count": 10,
   "metadata": {},
   "outputs": [
    {
     "name": "stderr",
     "output_type": "stream",
     "text": [
      "C:\\Users\\Rapt\\Anaconda3\\lib\\site-packages\\ipykernel_launcher.py:4: FutureWarning: reshape is deprecated and will raise in a subsequent release. Please use .values.reshape(...) instead\n",
      "  after removing the cwd from sys.path.\n"
     ]
    }
   ],
   "source": [
    "from sklearn.preprocessing import StandardScaler\n",
    "sc = StandardScaler()\n",
    "X_scal = sc.fit_transform(X)\n",
    "Y_scal = sc.fit_transform(Y.reshape((-1,1)))"
   ]
  },
  {
   "cell_type": "code",
   "execution_count": 11,
   "metadata": {
    "collapsed": true
   },
   "outputs": [],
   "source": [
    "mean_vector = np.mean(X_scal, axis =0)"
   ]
  },
  {
   "cell_type": "code",
   "execution_count": 12,
   "metadata": {
    "collapsed": true
   },
   "outputs": [],
   "source": [
    "diff_from_mean = X_scal - mean_vector"
   ]
  },
  {
   "cell_type": "code",
   "execution_count": 13,
   "metadata": {},
   "outputs": [
    {
     "data": {
      "text/plain": [
       "24"
      ]
     },
     "execution_count": 13,
     "metadata": {},
     "output_type": "execute_result"
    }
   ],
   "source": [
    "a=np.array([[1,2,3],[3,4,5]])\n",
    "b = np.array([[2,3,4],[9,3,4]])\n",
    "np.dot(a[:,1],b[:,2])"
   ]
  },
  {
   "cell_type": "markdown",
   "metadata": {},
   "source": [
    "## Covariance Matrix"
   ]
  },
  {
   "cell_type": "code",
   "execution_count": 14,
   "metadata": {
    "collapsed": true
   },
   "outputs": [],
   "source": [
    "covariance_matrix = np.zeros((len(X.columns), len(X.columns))) "
   ]
  },
  {
   "cell_type": "code",
   "execution_count": 15,
   "metadata": {
    "collapsed": true
   },
   "outputs": [],
   "source": [
    "row = len(X.values)"
   ]
  },
  {
   "cell_type": "code",
   "execution_count": 16,
   "metadata": {
    "collapsed": true
   },
   "outputs": [],
   "source": [
    "for i in range(len(X.columns)):\n",
    "    for j in range(len(X.columns)):\n",
    "        covariance_matrix[i,j]= np.dot(diff_from_mean[:,i],diff_from_mean[:,j])/row"
   ]
  },
  {
   "cell_type": "code",
   "execution_count": 17,
   "metadata": {
    "collapsed": true
   },
   "outputs": [],
   "source": [
    "covariance_frame = pd.DataFrame(np.triu(covariance_matrix), columns = X.columns)"
   ]
  },
  {
   "cell_type": "code",
   "execution_count": 18,
   "metadata": {},
   "outputs": [
    {
     "data": {
      "text/html": [
       "<div>\n",
       "<style>\n",
       "    .dataframe thead tr:only-child th {\n",
       "        text-align: right;\n",
       "    }\n",
       "\n",
       "    .dataframe thead th {\n",
       "        text-align: left;\n",
       "    }\n",
       "\n",
       "    .dataframe tbody tr th {\n",
       "        vertical-align: top;\n",
       "    }\n",
       "</style>\n",
       "<table border=\"1\" class=\"dataframe\">\n",
       "  <thead>\n",
       "    <tr style=\"text-align: right;\">\n",
       "      <th></th>\n",
       "      <th>CO(GT)</th>\n",
       "      <th>PT08.S1(CO)</th>\n",
       "      <th>NMHC(GT)</th>\n",
       "      <th>C6H6(GT)</th>\n",
       "      <th>PT08.S2(NMHC)</th>\n",
       "      <th>NOx(GT)</th>\n",
       "      <th>PT08.S3(NOx)</th>\n",
       "      <th>NO2(GT)</th>\n",
       "      <th>PT08.S4(NO2)</th>\n",
       "      <th>PT08.S5(O3)</th>\n",
       "      <th>T</th>\n",
       "      <th>RH</th>\n",
       "    </tr>\n",
       "  </thead>\n",
       "  <tbody>\n",
       "    <tr>\n",
       "      <th>0</th>\n",
       "      <td>1</td>\n",
       "      <td>0.0414149</td>\n",
       "      <td>0.128351</td>\n",
       "      <td>-0.0313773</td>\n",
       "      <td>0.0299394</td>\n",
       "      <td>0.52645</td>\n",
       "      <td>-0.0899806</td>\n",
       "      <td>0.67114</td>\n",
       "      <td>-0.0737205</td>\n",
       "      <td>0.0803156</td>\n",
       "      <td>-0.0689517</td>\n",
       "      <td>-0.048231</td>\n",
       "    </tr>\n",
       "    <tr>\n",
       "      <th>1</th>\n",
       "      <td></td>\n",
       "      <td>1</td>\n",
       "      <td>0.170009</td>\n",
       "      <td>0.852659</td>\n",
       "      <td>0.933101</td>\n",
       "      <td>0.278029</td>\n",
       "      <td>0.0869312</td>\n",
       "      <td>0.154058</td>\n",
       "      <td>0.845133</td>\n",
       "      <td>0.892436</td>\n",
       "      <td>0.754806</td>\n",
       "      <td>0.745344</td>\n",
       "    </tr>\n",
       "    <tr>\n",
       "      <th>2</th>\n",
       "      <td></td>\n",
       "      <td></td>\n",
       "      <td>1</td>\n",
       "      <td>0.0373289</td>\n",
       "      <td>0.110097</td>\n",
       "      <td>-0.00441289</td>\n",
       "      <td>0.0488322</td>\n",
       "      <td>0.103345</td>\n",
       "      <td>0.162689</td>\n",
       "      <td>0.101189</td>\n",
       "      <td>-7.57769e-06</td>\n",
       "      <td>0.008288</td>\n",
       "    </tr>\n",
       "    <tr>\n",
       "      <th>3</th>\n",
       "      <td></td>\n",
       "      <td></td>\n",
       "      <td></td>\n",
       "      <td>1</td>\n",
       "      <td>0.767401</td>\n",
       "      <td>-0.00116298</td>\n",
       "      <td>0.512154</td>\n",
       "      <td>-0.0109714</td>\n",
       "      <td>0.774649</td>\n",
       "      <td>0.641306</td>\n",
       "      <td>0.97137</td>\n",
       "      <td>0.925068</td>\n",
       "    </tr>\n",
       "    <tr>\n",
       "      <th>4</th>\n",
       "      <td></td>\n",
       "      <td></td>\n",
       "      <td></td>\n",
       "      <td></td>\n",
       "      <td>1</td>\n",
       "      <td>0.331331</td>\n",
       "      <td>-0.0737483</td>\n",
       "      <td>0.176569</td>\n",
       "      <td>0.874761</td>\n",
       "      <td>0.909909</td>\n",
       "      <td>0.668984</td>\n",
       "      <td>0.585775</td>\n",
       "    </tr>\n",
       "    <tr>\n",
       "      <th>5</th>\n",
       "      <td></td>\n",
       "      <td></td>\n",
       "      <td></td>\n",
       "      <td></td>\n",
       "      <td></td>\n",
       "      <td>1</td>\n",
       "      <td>-0.436083</td>\n",
       "      <td>0.817138</td>\n",
       "      <td>0.0355795</td>\n",
       "      <td>0.461916</td>\n",
       "      <td>-0.138457</td>\n",
       "      <td>-0.053008</td>\n",
       "    </tr>\n",
       "    <tr>\n",
       "      <th>6</th>\n",
       "      <td></td>\n",
       "      <td></td>\n",
       "      <td></td>\n",
       "      <td></td>\n",
       "      <td></td>\n",
       "      <td></td>\n",
       "      <td>1</td>\n",
       "      <td>-0.256217</td>\n",
       "      <td>0.122672</td>\n",
       "      <td>-0.208935</td>\n",
       "      <td>0.588061</td>\n",
       "      <td>0.573513</td>\n",
       "    </tr>\n",
       "    <tr>\n",
       "      <th>7</th>\n",
       "      <td></td>\n",
       "      <td></td>\n",
       "      <td></td>\n",
       "      <td></td>\n",
       "      <td></td>\n",
       "      <td></td>\n",
       "      <td></td>\n",
       "      <td>1</td>\n",
       "      <td>-0.0220925</td>\n",
       "      <td>0.253469</td>\n",
       "      <td>-0.0840845</td>\n",
       "      <td>-0.081300</td>\n",
       "    </tr>\n",
       "    <tr>\n",
       "      <th>8</th>\n",
       "      <td></td>\n",
       "      <td></td>\n",
       "      <td></td>\n",
       "      <td></td>\n",
       "      <td></td>\n",
       "      <td></td>\n",
       "      <td></td>\n",
       "      <td></td>\n",
       "      <td>1</td>\n",
       "      <td>0.72367</td>\n",
       "      <td>0.755053</td>\n",
       "      <td>0.640685</td>\n",
       "    </tr>\n",
       "    <tr>\n",
       "      <th>9</th>\n",
       "      <td></td>\n",
       "      <td></td>\n",
       "      <td></td>\n",
       "      <td></td>\n",
       "      <td></td>\n",
       "      <td></td>\n",
       "      <td></td>\n",
       "      <td></td>\n",
       "      <td></td>\n",
       "      <td>1</td>\n",
       "      <td>0.503659</td>\n",
       "      <td>0.524922</td>\n",
       "    </tr>\n",
       "    <tr>\n",
       "      <th>10</th>\n",
       "      <td></td>\n",
       "      <td></td>\n",
       "      <td></td>\n",
       "      <td></td>\n",
       "      <td></td>\n",
       "      <td></td>\n",
       "      <td></td>\n",
       "      <td></td>\n",
       "      <td></td>\n",
       "      <td></td>\n",
       "      <td>1</td>\n",
       "      <td>0.885910</td>\n",
       "    </tr>\n",
       "    <tr>\n",
       "      <th>11</th>\n",
       "      <td></td>\n",
       "      <td></td>\n",
       "      <td></td>\n",
       "      <td></td>\n",
       "      <td></td>\n",
       "      <td></td>\n",
       "      <td></td>\n",
       "      <td></td>\n",
       "      <td></td>\n",
       "      <td></td>\n",
       "      <td></td>\n",
       "      <td>1.000000</td>\n",
       "    </tr>\n",
       "  </tbody>\n",
       "</table>\n",
       "</div>"
      ],
      "text/plain": [
       "   CO(GT) PT08.S1(CO)  NMHC(GT)   C6H6(GT) PT08.S2(NMHC)     NOx(GT)  \\\n",
       "0       1   0.0414149  0.128351 -0.0313773     0.0299394     0.52645   \n",
       "1                   1  0.170009   0.852659      0.933101    0.278029   \n",
       "2                             1  0.0373289      0.110097 -0.00441289   \n",
       "3                                        1      0.767401 -0.00116298   \n",
       "4                                                      1    0.331331   \n",
       "5                                                                  1   \n",
       "6                                                                      \n",
       "7                                                                      \n",
       "8                                                                      \n",
       "9                                                                      \n",
       "10                                                                     \n",
       "11                                                                     \n",
       "\n",
       "   PT08.S3(NOx)    NO2(GT) PT08.S4(NO2) PT08.S5(O3)            T        RH  \n",
       "0    -0.0899806    0.67114   -0.0737205   0.0803156   -0.0689517 -0.048231  \n",
       "1     0.0869312   0.154058     0.845133    0.892436     0.754806  0.745344  \n",
       "2     0.0488322   0.103345     0.162689    0.101189 -7.57769e-06  0.008288  \n",
       "3      0.512154 -0.0109714     0.774649    0.641306      0.97137  0.925068  \n",
       "4    -0.0737483   0.176569     0.874761    0.909909     0.668984  0.585775  \n",
       "5     -0.436083   0.817138    0.0355795    0.461916    -0.138457 -0.053008  \n",
       "6             1  -0.256217     0.122672   -0.208935     0.588061  0.573513  \n",
       "7                        1   -0.0220925    0.253469   -0.0840845 -0.081300  \n",
       "8                                     1     0.72367     0.755053  0.640685  \n",
       "9                                                 1     0.503659  0.524922  \n",
       "10                                                             1  0.885910  \n",
       "11                                                                1.000000  "
      ]
     },
     "execution_count": 18,
     "metadata": {},
     "output_type": "execute_result"
    }
   ],
   "source": [
    "covariance_frame.replace(0,'')"
   ]
  },
  {
   "cell_type": "code",
   "execution_count": 19,
   "metadata": {
    "collapsed": true
   },
   "outputs": [],
   "source": [
    "w,v = np.linalg.eig(covariance_matrix)"
   ]
  },
  {
   "cell_type": "code",
   "execution_count": 20,
   "metadata": {},
   "outputs": [
    {
     "data": {
      "text/plain": [
       "(array([5.74964294e+00, 2.86531560e+00, 1.34643181e+00, 1.02563039e+00,\n",
       "        3.91886304e-01, 2.50415995e-01, 1.24937052e-01, 1.04162245e-01,\n",
       "        7.26243539e-02, 2.04480307e-03, 2.81095237e-02, 3.87989737e-02]),\n",
       " array([[-0.00584583,  0.38205915,  0.52165511, -0.03072887,  0.70216059,\n",
       "          0.2827754 ,  0.08416449,  0.01711158,  0.02335495,  0.00149534,\n",
       "          0.00328953,  0.00138156],\n",
       "        [-0.39927511,  0.09482159, -0.11217599, -0.05190863, -0.03646396,\n",
       "          0.16727554, -0.0659843 ,  0.09929232,  0.02194387, -0.02849706,\n",
       "         -0.327857  ,  0.8148637 ],\n",
       "        [-0.04882359,  0.06820521,  0.09226538, -0.96095434, -0.17217433,\n",
       "          0.06582872, -0.04508593, -0.02449134,  0.11377828, -0.00677211,\n",
       "         -0.00309713, -0.10680464],\n",
       "        [-0.39749641, -0.12115867,  0.14837956,  0.07685196, -0.0532275 ,\n",
       "          0.01503645, -0.10580565,  0.18034296,  0.27538028,  0.8044796 ,\n",
       "          0.12155538, -0.1217347 ],\n",
       "        [-0.37750677,  0.14881346, -0.24022592, -0.01455874,  0.10542129,\n",
       "         -0.13586119,  0.22000185,  0.24385787,  0.24148867, -0.31509296,\n",
       "          0.69303058,  0.04573427],\n",
       "        [-0.06654787,  0.53363709,  0.07496838,  0.17081083, -0.4264657 ,\n",
       "          0.07561654,  0.45645763, -0.34429654,  0.34679629,  0.01597181,\n",
       "         -0.17183202, -0.10711072],\n",
       "        [-0.12022022, -0.38545455,  0.55721355, -0.01440813, -0.22696272,\n",
       "         -0.10090154,  0.56338497,  0.16948144, -0.30767765, -0.07945997,\n",
       "          0.0493801 ,  0.12263668],\n",
       "        [-0.03668583,  0.49867617,  0.33928165,  0.0562842 , -0.2640038 ,\n",
       "         -0.49591396, -0.43096166,  0.14530702, -0.30224677, -0.01247001,\n",
       "          0.11564417,  0.06590405],\n",
       "        [-0.36942068, -0.0144591 , -0.19018432, -0.12060341,  0.34441042,\n",
       "         -0.5069796 ,  0.19350979, -0.53033816, -0.2802447 ,  0.14566247,\n",
       "         -0.1259066 , -0.05143401],\n",
       "        [-0.34037255,  0.23342028, -0.2751371 ,  0.01221499, -0.06842218,\n",
       "          0.35426265,  0.1002438 ,  0.34838642, -0.53919745, -0.00692211,\n",
       "         -0.19374254, -0.40483127],\n",
       "        [-0.37145023, -0.19340401,  0.18762861,  0.08820268,  0.06640015,\n",
       "         -0.22414086, -0.19440329,  0.1772592 ,  0.39576287, -0.42792865,\n",
       "         -0.45950897, -0.32691615],\n",
       "        [-0.35653745, -0.17158664,  0.22081751,  0.10855354, -0.17679899,\n",
       "          0.41766025, -0.36078023, -0.54298018, -0.14032421, -0.20385272,\n",
       "          0.29588332, -0.05842309]]))"
      ]
     },
     "execution_count": 20,
     "metadata": {},
     "output_type": "execute_result"
    }
   ],
   "source": [
    "w, v"
   ]
  },
  {
   "cell_type": "markdown",
   "metadata": {
    "collapsed": true
   },
   "source": [
    "## So these eigen vectors are the principal components or indicates the direction where information is spread and eigen values shows the variance indicated by these vectors"
   ]
  },
  {
   "cell_type": "code",
   "execution_count": 21,
   "metadata": {
    "collapsed": true
   },
   "outputs": [],
   "source": [
    "principal_components = pd.DataFrame(np.transpose(v),columns =['pca_' + str(i) for i in range(12)])"
   ]
  },
  {
   "cell_type": "code",
   "execution_count": 22,
   "metadata": {},
   "outputs": [
    {
     "data": {
      "text/html": [
       "<div>\n",
       "<style>\n",
       "    .dataframe thead tr:only-child th {\n",
       "        text-align: right;\n",
       "    }\n",
       "\n",
       "    .dataframe thead th {\n",
       "        text-align: left;\n",
       "    }\n",
       "\n",
       "    .dataframe tbody tr th {\n",
       "        vertical-align: top;\n",
       "    }\n",
       "</style>\n",
       "<table border=\"1\" class=\"dataframe\">\n",
       "  <thead>\n",
       "    <tr style=\"text-align: right;\">\n",
       "      <th></th>\n",
       "      <th>pca_0</th>\n",
       "      <th>pca_1</th>\n",
       "      <th>pca_2</th>\n",
       "      <th>pca_3</th>\n",
       "      <th>pca_4</th>\n",
       "      <th>pca_5</th>\n",
       "      <th>pca_6</th>\n",
       "      <th>pca_7</th>\n",
       "      <th>pca_8</th>\n",
       "      <th>pca_9</th>\n",
       "      <th>pca_10</th>\n",
       "      <th>pca_11</th>\n",
       "    </tr>\n",
       "  </thead>\n",
       "  <tbody>\n",
       "    <tr>\n",
       "      <th>0</th>\n",
       "      <td>-0.005846</td>\n",
       "      <td>-0.399275</td>\n",
       "      <td>-0.048824</td>\n",
       "      <td>-0.397496</td>\n",
       "      <td>-0.377507</td>\n",
       "      <td>-0.066548</td>\n",
       "      <td>-0.120220</td>\n",
       "      <td>-0.036686</td>\n",
       "      <td>-0.369421</td>\n",
       "      <td>-0.340373</td>\n",
       "      <td>-0.371450</td>\n",
       "      <td>-0.356537</td>\n",
       "    </tr>\n",
       "    <tr>\n",
       "      <th>1</th>\n",
       "      <td>0.382059</td>\n",
       "      <td>0.094822</td>\n",
       "      <td>0.068205</td>\n",
       "      <td>-0.121159</td>\n",
       "      <td>0.148813</td>\n",
       "      <td>0.533637</td>\n",
       "      <td>-0.385455</td>\n",
       "      <td>0.498676</td>\n",
       "      <td>-0.014459</td>\n",
       "      <td>0.233420</td>\n",
       "      <td>-0.193404</td>\n",
       "      <td>-0.171587</td>\n",
       "    </tr>\n",
       "    <tr>\n",
       "      <th>2</th>\n",
       "      <td>0.521655</td>\n",
       "      <td>-0.112176</td>\n",
       "      <td>0.092265</td>\n",
       "      <td>0.148380</td>\n",
       "      <td>-0.240226</td>\n",
       "      <td>0.074968</td>\n",
       "      <td>0.557214</td>\n",
       "      <td>0.339282</td>\n",
       "      <td>-0.190184</td>\n",
       "      <td>-0.275137</td>\n",
       "      <td>0.187629</td>\n",
       "      <td>0.220818</td>\n",
       "    </tr>\n",
       "    <tr>\n",
       "      <th>3</th>\n",
       "      <td>-0.030729</td>\n",
       "      <td>-0.051909</td>\n",
       "      <td>-0.960954</td>\n",
       "      <td>0.076852</td>\n",
       "      <td>-0.014559</td>\n",
       "      <td>0.170811</td>\n",
       "      <td>-0.014408</td>\n",
       "      <td>0.056284</td>\n",
       "      <td>-0.120603</td>\n",
       "      <td>0.012215</td>\n",
       "      <td>0.088203</td>\n",
       "      <td>0.108554</td>\n",
       "    </tr>\n",
       "    <tr>\n",
       "      <th>4</th>\n",
       "      <td>0.702161</td>\n",
       "      <td>-0.036464</td>\n",
       "      <td>-0.172174</td>\n",
       "      <td>-0.053228</td>\n",
       "      <td>0.105421</td>\n",
       "      <td>-0.426466</td>\n",
       "      <td>-0.226963</td>\n",
       "      <td>-0.264004</td>\n",
       "      <td>0.344410</td>\n",
       "      <td>-0.068422</td>\n",
       "      <td>0.066400</td>\n",
       "      <td>-0.176799</td>\n",
       "    </tr>\n",
       "    <tr>\n",
       "      <th>5</th>\n",
       "      <td>0.282775</td>\n",
       "      <td>0.167276</td>\n",
       "      <td>0.065829</td>\n",
       "      <td>0.015036</td>\n",
       "      <td>-0.135861</td>\n",
       "      <td>0.075617</td>\n",
       "      <td>-0.100902</td>\n",
       "      <td>-0.495914</td>\n",
       "      <td>-0.506980</td>\n",
       "      <td>0.354263</td>\n",
       "      <td>-0.224141</td>\n",
       "      <td>0.417660</td>\n",
       "    </tr>\n",
       "    <tr>\n",
       "      <th>6</th>\n",
       "      <td>0.084164</td>\n",
       "      <td>-0.065984</td>\n",
       "      <td>-0.045086</td>\n",
       "      <td>-0.105806</td>\n",
       "      <td>0.220002</td>\n",
       "      <td>0.456458</td>\n",
       "      <td>0.563385</td>\n",
       "      <td>-0.430962</td>\n",
       "      <td>0.193510</td>\n",
       "      <td>0.100244</td>\n",
       "      <td>-0.194403</td>\n",
       "      <td>-0.360780</td>\n",
       "    </tr>\n",
       "    <tr>\n",
       "      <th>7</th>\n",
       "      <td>0.017112</td>\n",
       "      <td>0.099292</td>\n",
       "      <td>-0.024491</td>\n",
       "      <td>0.180343</td>\n",
       "      <td>0.243858</td>\n",
       "      <td>-0.344297</td>\n",
       "      <td>0.169481</td>\n",
       "      <td>0.145307</td>\n",
       "      <td>-0.530338</td>\n",
       "      <td>0.348386</td>\n",
       "      <td>0.177259</td>\n",
       "      <td>-0.542980</td>\n",
       "    </tr>\n",
       "    <tr>\n",
       "      <th>8</th>\n",
       "      <td>0.023355</td>\n",
       "      <td>0.021944</td>\n",
       "      <td>0.113778</td>\n",
       "      <td>0.275380</td>\n",
       "      <td>0.241489</td>\n",
       "      <td>0.346796</td>\n",
       "      <td>-0.307678</td>\n",
       "      <td>-0.302247</td>\n",
       "      <td>-0.280245</td>\n",
       "      <td>-0.539197</td>\n",
       "      <td>0.395763</td>\n",
       "      <td>-0.140324</td>\n",
       "    </tr>\n",
       "    <tr>\n",
       "      <th>9</th>\n",
       "      <td>0.001495</td>\n",
       "      <td>-0.028497</td>\n",
       "      <td>-0.006772</td>\n",
       "      <td>0.804480</td>\n",
       "      <td>-0.315093</td>\n",
       "      <td>0.015972</td>\n",
       "      <td>-0.079460</td>\n",
       "      <td>-0.012470</td>\n",
       "      <td>0.145662</td>\n",
       "      <td>-0.006922</td>\n",
       "      <td>-0.427929</td>\n",
       "      <td>-0.203853</td>\n",
       "    </tr>\n",
       "    <tr>\n",
       "      <th>10</th>\n",
       "      <td>0.003290</td>\n",
       "      <td>-0.327857</td>\n",
       "      <td>-0.003097</td>\n",
       "      <td>0.121555</td>\n",
       "      <td>0.693031</td>\n",
       "      <td>-0.171832</td>\n",
       "      <td>0.049380</td>\n",
       "      <td>0.115644</td>\n",
       "      <td>-0.125907</td>\n",
       "      <td>-0.193743</td>\n",
       "      <td>-0.459509</td>\n",
       "      <td>0.295883</td>\n",
       "    </tr>\n",
       "    <tr>\n",
       "      <th>11</th>\n",
       "      <td>0.001382</td>\n",
       "      <td>0.814864</td>\n",
       "      <td>-0.106805</td>\n",
       "      <td>-0.121735</td>\n",
       "      <td>0.045734</td>\n",
       "      <td>-0.107111</td>\n",
       "      <td>0.122637</td>\n",
       "      <td>0.065904</td>\n",
       "      <td>-0.051434</td>\n",
       "      <td>-0.404831</td>\n",
       "      <td>-0.326916</td>\n",
       "      <td>-0.058423</td>\n",
       "    </tr>\n",
       "  </tbody>\n",
       "</table>\n",
       "</div>"
      ],
      "text/plain": [
       "       pca_0     pca_1     pca_2     pca_3     pca_4     pca_5     pca_6  \\\n",
       "0  -0.005846 -0.399275 -0.048824 -0.397496 -0.377507 -0.066548 -0.120220   \n",
       "1   0.382059  0.094822  0.068205 -0.121159  0.148813  0.533637 -0.385455   \n",
       "2   0.521655 -0.112176  0.092265  0.148380 -0.240226  0.074968  0.557214   \n",
       "3  -0.030729 -0.051909 -0.960954  0.076852 -0.014559  0.170811 -0.014408   \n",
       "4   0.702161 -0.036464 -0.172174 -0.053228  0.105421 -0.426466 -0.226963   \n",
       "5   0.282775  0.167276  0.065829  0.015036 -0.135861  0.075617 -0.100902   \n",
       "6   0.084164 -0.065984 -0.045086 -0.105806  0.220002  0.456458  0.563385   \n",
       "7   0.017112  0.099292 -0.024491  0.180343  0.243858 -0.344297  0.169481   \n",
       "8   0.023355  0.021944  0.113778  0.275380  0.241489  0.346796 -0.307678   \n",
       "9   0.001495 -0.028497 -0.006772  0.804480 -0.315093  0.015972 -0.079460   \n",
       "10  0.003290 -0.327857 -0.003097  0.121555  0.693031 -0.171832  0.049380   \n",
       "11  0.001382  0.814864 -0.106805 -0.121735  0.045734 -0.107111  0.122637   \n",
       "\n",
       "       pca_7     pca_8     pca_9    pca_10    pca_11  \n",
       "0  -0.036686 -0.369421 -0.340373 -0.371450 -0.356537  \n",
       "1   0.498676 -0.014459  0.233420 -0.193404 -0.171587  \n",
       "2   0.339282 -0.190184 -0.275137  0.187629  0.220818  \n",
       "3   0.056284 -0.120603  0.012215  0.088203  0.108554  \n",
       "4  -0.264004  0.344410 -0.068422  0.066400 -0.176799  \n",
       "5  -0.495914 -0.506980  0.354263 -0.224141  0.417660  \n",
       "6  -0.430962  0.193510  0.100244 -0.194403 -0.360780  \n",
       "7   0.145307 -0.530338  0.348386  0.177259 -0.542980  \n",
       "8  -0.302247 -0.280245 -0.539197  0.395763 -0.140324  \n",
       "9  -0.012470  0.145662 -0.006922 -0.427929 -0.203853  \n",
       "10  0.115644 -0.125907 -0.193743 -0.459509  0.295883  \n",
       "11  0.065904 -0.051434 -0.404831 -0.326916 -0.058423  "
      ]
     },
     "execution_count": 22,
     "metadata": {},
     "output_type": "execute_result"
    }
   ],
   "source": [
    "principal_components"
   ]
  },
  {
   "cell_type": "code",
   "execution_count": 23,
   "metadata": {},
   "outputs": [],
   "source": [
    "X_after_pca = np.zeros((len(X_scal),12))\n",
    "for i in range(len(X_scal)):\n",
    "    for j in range(12):\n",
    "        X_after_pca[i,j] = np.dot(v[:,j],X_scal[i])"
   ]
  },
  {
   "cell_type": "code",
   "execution_count": 24,
   "metadata": {},
   "outputs": [
    {
     "data": {
      "text/plain": [
       "(9357, 12)"
      ]
     },
     "execution_count": 24,
     "metadata": {},
     "output_type": "execute_result"
    }
   ],
   "source": [
    "X_after_pca.shape"
   ]
  },
  {
   "cell_type": "markdown",
   "metadata": {},
   "source": [
    "## Taking 4 principal components"
   ]
  },
  {
   "cell_type": "code",
   "execution_count": 25,
   "metadata": {
    "collapsed": true
   },
   "outputs": [],
   "source": [
    "X_after_pca_trans =  X_after_pca[:,:4]"
   ]
  },
  {
   "cell_type": "code",
   "execution_count": 26,
   "metadata": {
    "collapsed": true
   },
   "outputs": [],
   "source": [
    "from sklearn.model_selection import train_test_split\n",
    "X_tr, X_ts, Y_tr, Y_ts = train_test_split(X_after_pca_trans,Y_scal, test_size= 1/3, random_state = 0)"
   ]
  },
  {
   "cell_type": "code",
   "execution_count": 27,
   "metadata": {},
   "outputs": [
    {
     "data": {
      "text/plain": [
       "LinearRegression(copy_X=True, fit_intercept=True, n_jobs=1, normalize=False)"
      ]
     },
     "execution_count": 27,
     "metadata": {},
     "output_type": "execute_result"
    }
   ],
   "source": [
    "from sklearn.linear_model import LinearRegression\n",
    "regress = LinearRegression()\n",
    "regress.fit(X_tr,Y_tr)"
   ]
  },
  {
   "cell_type": "code",
   "execution_count": 28,
   "metadata": {},
   "outputs": [],
   "source": [
    "y_pred = regress.predict(X_ts)"
   ]
  },
  {
   "cell_type": "code",
   "execution_count": 29,
   "metadata": {},
   "outputs": [
    {
     "data": {
      "text/plain": [
       "(array([[0.19293798],\n",
       "        [0.18603115],\n",
       "        [0.20509313],\n",
       "        ...,\n",
       "        [0.19982183],\n",
       "        [0.20882683],\n",
       "        [0.19145766]]), array([[ 0.08824771],\n",
       "        [ 0.04834693],\n",
       "        [ 0.27242807],\n",
       "        ...,\n",
       "        [ 0.04142791],\n",
       "        [-0.01153079],\n",
       "        [ 0.08616405]]))"
      ]
     },
     "execution_count": 29,
     "metadata": {},
     "output_type": "execute_result"
    }
   ],
   "source": [
    "Y_ts,y_pred"
   ]
  },
  {
   "cell_type": "code",
   "execution_count": 30,
   "metadata": {},
   "outputs": [],
   "source": [
    "df = pd.DataFrame(y_pred, columns =['predicted'])"
   ]
  },
  {
   "cell_type": "code",
   "execution_count": 31,
   "metadata": {},
   "outputs": [],
   "source": [
    "df['Actual'] = Y_ts"
   ]
  },
  {
   "cell_type": "code",
   "execution_count": 32,
   "metadata": {},
   "outputs": [],
   "source": [
    "df_new = df[df['Actual']>-1]"
   ]
  },
  {
   "cell_type": "code",
   "execution_count": 33,
   "metadata": {},
   "outputs": [
    {
     "data": {
      "text/plain": [
       "<matplotlib.collections.PathCollection at 0x21f3a5e6748>"
      ]
     },
     "execution_count": 33,
     "metadata": {},
     "output_type": "execute_result"
    },
    {
     "data": {
      "image/png": "[encoded data removed]",
      "text/plain": [
       "<matplotlib.figure.Figure at 0x21f3a4a24e0>"
      ]
     },
     "metadata": {},
     "output_type": "display_data"
    }
   ],
   "source": [
    "plt.scatter(df_new['predicted'], df_new['Actual'],color ='red')"
   ]
  },
  {
   "cell_type": "markdown",
   "metadata": {},
   "source": [
    "## R2 value to check goodness of fit"
   ]
  },
  {
   "cell_type": "markdown",
   "metadata": {},
   "source": [
    "it is equal to ss_res/ ss_tot"
   ]
  },
  {
   "cell_type": "markdown",
   "metadata": {},
   "source": [
    "## Calculating SS_res"
   ]
  },
  {
   "cell_type": "code",
   "execution_count": 34,
   "metadata": {},
   "outputs": [
    {
     "data": {
      "text/plain": [
       "0.00490530527225335"
      ]
     },
     "execution_count": 34,
     "metadata": {},
     "output_type": "execute_result"
    }
   ],
   "source": [
    "np.mean(df['Actual'])"
   ]
  },
  {
   "cell_type": "code",
   "execution_count": 35,
   "metadata": {},
   "outputs": [
    {
     "data": {
      "text/plain": [
       "(3119,)"
      ]
     },
     "execution_count": 35,
     "metadata": {},
     "output_type": "execute_result"
    }
   ],
   "source": [
    "df['Actual'].shape"
   ]
  },
  {
   "cell_type": "code",
   "execution_count": 36,
   "metadata": {},
   "outputs": [],
   "source": [
    "ss_res = sum((df['predicted'] - np.mean(df['Actual']))**2)"
   ]
  },
  {
   "cell_type": "markdown",
   "metadata": {},
   "source": [
    "## Calculating SS_tot"
   ]
  },
  {
   "cell_type": "code",
   "execution_count": 37,
   "metadata": {},
   "outputs": [],
   "source": [
    "ss_tot = sum((df['predicted']- df['Actual'])**2) + ss_res"
   ]
  },
  {
   "cell_type": "code",
   "execution_count": 38,
   "metadata": {},
   "outputs": [],
   "source": [
    "r_square = ss_res/ss_tot"
   ]
  },
  {
   "cell_type": "code",
   "execution_count": 39,
   "metadata": {},
   "outputs": [
    {
     "data": {
      "text/plain": [
       "0.9777230647793861"
      ]
     },
     "execution_count": 39,
     "metadata": {},
     "output_type": "execute_result"
    }
   ],
   "source": [
    "r_square"
   ]
  }
 ],
 "metadata": {
  "kernelspec": {
   "display_name": "Python 3",
   "language": "python",
   "name": "python3"
  },
  "language_info": {
   "codemirror_mode": {
    "name": "ipython",
    "version": 3
   },
   "file_extension": ".py",
   "mimetype": "text/x-python",
   "name": "python",
   "nbconvert_exporter": "python",
   "pygments_lexer": "ipython3",
   "version": "3.6.3"
  }
 },
 "nbformat": 4,
 "nbformat_minor": 2
}
